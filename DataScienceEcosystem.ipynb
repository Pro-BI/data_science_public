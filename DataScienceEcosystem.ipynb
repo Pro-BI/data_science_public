{
 "cells": [
  {
   "cell_type": "markdown",
   "id": "bc0812b1-064c-4086-922b-230b44ef618c",
   "metadata": {},
   "source": [
    "## Data Science Tools and Ecosystem"
   ]
  },
  {
   "cell_type": "markdown",
   "id": "6c525723-c996-47bc-b518-f91c4a317219",
   "metadata": {},
   "source": [
    "In this notebook, Data Science Tools and Ecosystem are summarized."
   ]
  },
  {
   "cell_type": "markdown",
   "id": "f0426659-4403-459e-a7fd-3fd15c9c602e",
   "metadata": {},
   "source": [
    "**Objectives:**\n",
    "* List popular languages for Data Science\n",
    "* List commonly used libraries used by Data Scientists\n",
    "* List Data science tools"
   ]
  },
  {
   "cell_type": "markdown",
   "id": "015dc2a8-8159-4a8d-aa0f-7710a17b312a",
   "metadata": {},
   "source": [
    "Some of the popular languages that Data Scientists use are:\n",
    "1. Python\n",
    "2. R\n",
    "3. Scala\n",
    "4. Julia"
   ]
  },
  {
   "cell_type": "markdown",
   "id": "79652bf0-fb5c-43c1-b0f5-19632ea6bbba",
   "metadata": {
    "jp-MarkdownHeadingCollapsed": true
   },
   "source": [
    "Some of the commonly used libraries used by Data Scientists include:\n",
    "1. Numpy\n",
    "2. Pandas\n",
    "3. Matplotlib\n",
    "4. Seaborn\n",
    "5. Scikit-learn\n",
    "6. TensorFlow"
   ]
  },
  {
   "cell_type": "markdown",
   "id": "e0288258-158d-4dc6-86a7-dc471eacf3b7",
   "metadata": {},
   "source": [
    "|Data Science Tools|\n",
    "|-----------------|\n",
    "|Jupyterlab|\n",
    "|Rstudio|\n",
    "|Git/github|"
   ]
  },
  {
   "cell_type": "markdown",
   "id": "60a631da-6611-4804-a6b9-20ee4e7d4ba7",
   "metadata": {},
   "source": [
    "### Below are a few examples of evaluating arithmetic expressions in Python"
   ]
  },
  {
   "cell_type": "code",
   "execution_count": 10,
   "id": "3c68c252-5a8d-4b8f-8d1a-84f553c6a8e7",
   "metadata": {},
   "outputs": [
    {
     "data": {
      "text/plain": [
       "17"
      ]
     },
     "execution_count": 10,
     "metadata": {},
     "output_type": "execute_result"
    }
   ],
   "source": [
    "# This a simple arithmetic expression to mutiply then add integers\n",
    "(3*4)+5"
   ]
  },
  {
   "cell_type": "code",
   "execution_count": 11,
   "id": "64521359-ff8b-4ec3-81b7-c8a3a4dc38cb",
   "metadata": {},
   "outputs": [
    {
     "name": "stdout",
     "output_type": "stream",
     "text": [
      "3.33 hrs\n"
     ]
    }
   ],
   "source": [
    "# This will convert 200 minutes to hours by diving by 60\n",
    "print (round(200/60,2) , \"hrs\")"
   ]
  },
  {
   "cell_type": "markdown",
   "id": "839843d7-bfc3-43f4-8ec0-eb7d719e3e33",
   "metadata": {},
   "source": [
    "## Author\n",
    "Datascience learner "
   ]
  },
  {
   "cell_type": "code",
   "execution_count": null,
   "id": "198e789b-e140-47f3-aea5-de6b5592d675",
   "metadata": {},
   "outputs": [],
   "source": []
  }
 ],
 "metadata": {
  "kernelspec": {
   "display_name": "Python 3 (ipykernel)",
   "language": "python",
   "name": "python3"
  },
  "language_info": {
   "codemirror_mode": {
    "name": "ipython",
    "version": 3
   },
   "file_extension": ".py",
   "mimetype": "text/x-python",
   "name": "python",
   "nbconvert_exporter": "python",
   "pygments_lexer": "ipython3",
   "version": "3.11.7"
  }
 },
 "nbformat": 4,
 "nbformat_minor": 5
}
